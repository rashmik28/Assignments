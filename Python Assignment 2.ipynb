{
 "cells": [
  {
   "cell_type": "markdown",
   "metadata": {},
   "source": [
    "### 1. Create the below pattern using nested for loop in Python.\n",
    "#### *\n",
    "#### * *\n",
    "#### * * *\n",
    "#### * * * *\n",
    "#### * * * * *\n",
    "#### * * * *\n",
    "#### * * *\n",
    "#### * *\n",
    "#### *"
   ]
  },
  {
   "cell_type": "code",
   "execution_count": 11,
   "metadata": {},
   "outputs": [
    {
     "name": "stdout",
     "output_type": "stream",
     "text": [
      "Enter the numeric value of n:5\n",
      "*  \n",
      "* *  \n",
      "* * *  \n",
      "* * * *  \n",
      "* * * * *  \n",
      "* * * *  \n",
      "* * *  \n",
      "* *  \n",
      "*  \n"
     ]
    }
   ],
   "source": [
    "#Function to draw the desired pattern\n",
    "def draw_pattern(n):\n",
    "    for i in range(1,n+1):\n",
    "        for j in range(1,i+1):\n",
    "            print(\"*\",end = \" \")\n",
    "        print(\" \")\n",
    "    for i in range (n,1,-1):\n",
    "        for j in range(i,1,-1):\n",
    "            print(\"*\", end=\" \")\n",
    "        print(\" \")    \n",
    "        \n",
    "\n",
    "#get value of n\n",
    "n = int(input(\"Enter the numeric value of n:\"))\n",
    "draw_pattern(n)                  \n",
    "                  "
   ]
  },
  {
   "cell_type": "markdown",
   "metadata": {},
   "source": [
    "### 2. Write a Python program to reverse a word after accepting the input from the user."
   ]
  },
  {
   "cell_type": "code",
   "execution_count": 12,
   "metadata": {},
   "outputs": [
    {
     "name": "stdout",
     "output_type": "stream",
     "text": [
      "Enter input string to reverse:Rashmi\n",
      "The reversed string is imhsaR\n"
     ]
    }
   ],
   "source": [
    "def rev_string(s):\n",
    "    return s[::-1]\n",
    "\n",
    "#Read Input String\n",
    "s = input(\"Enter input string to reverse:\")\n",
    "\n",
    "print('The reversed string is {}'.format(rev_string(s)))"
   ]
  }
 ],
 "metadata": {
  "kernelspec": {
   "display_name": "Python 3",
   "language": "python",
   "name": "python3"
  },
  "language_info": {
   "codemirror_mode": {
    "name": "ipython",
    "version": 3
   },
   "file_extension": ".py",
   "mimetype": "text/x-python",
   "name": "python",
   "nbconvert_exporter": "python",
   "pygments_lexer": "ipython3",
   "version": "3.7.6"
  }
 },
 "nbformat": 4,
 "nbformat_minor": 4
}
